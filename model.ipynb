{
 "cells": [
  {
   "cell_type": "markdown",
   "metadata": {},
   "source": [
    "Imports"
   ]
  },
  {
   "cell_type": "code",
   "execution_count": 29,
   "metadata": {},
   "outputs": [],
   "source": [
    "import numpy as np\n",
    "import matplotlib.pyplot as plt\n",
    "import pandas as pd\n",
    "from tensorflow import keras\n",
    "from tensorflow.keras import layers\n",
    "from keras.models import Sequential\n",
    "from keras.layers import Dense, Dropout\n",
    "from sklearn.metrics import confusion_matrix\n",
    "import seaborn as sns\n",
    "\n",
    "np.random.seed(0)"
   ]
  },
  {
   "cell_type": "code",
   "execution_count": 30,
   "metadata": {},
   "outputs": [
    {
     "name": "stdout",
     "output_type": "stream",
     "text": [
      "\n",
      "Final Train Shapes: \n",
      "Data:    (16800, 28, 28)\n",
      "Labels:  (16800,)\n",
      "\n",
      "Final Test Shapes\n",
      "Data:    (2800,)\n",
      "Labels:  (2800, 28, 28)\n"
     ]
    }
   ],
   "source": [
    "x_train = np.load(\"./datasets/train_data.npy\")\n",
    "y_train = np.load(\"./datasets/train_labels.npy\")\n",
    "x_test = np.load(\"./datasets/test_data.npy\")\n",
    "y_test = np.load(\"./datasets/test_labels.npy\")\n",
    "\n",
    "num_classes =7\n",
    "print(\"\\nFinal Train Shapes: \")\n",
    "print(\"Data:   \", x_train.shape)\n",
    "print(\"Labels: \", y_train.shape)\n",
    "print(\"\\nFinal Test Shapes\")\n",
    "print(\"Data:   \", y_test.shape)\n",
    "print(\"Labels: \", x_test.shape)\n"
   ]
  },
  {
   "cell_type": "markdown",
   "metadata": {},
   "source": [
    "Visualize Labels"
   ]
  },
  {
   "cell_type": "code",
   "execution_count": 31,
   "metadata": {},
   "outputs": [],
   "source": [
    "x_train = x_train.astype(\"float32\")/255\n",
    "x_test = x_test.astype(\"float32\")/255"
   ]
  },
  {
   "cell_type": "code",
   "execution_count": 32,
   "metadata": {},
   "outputs": [
    {
     "data": {
      "image/png": "[encoded data removed]",
      "text/plain": [
       "<Figure size 1440x1440 with 7 Axes>"
      ]
     },
     "metadata": {
      "needs_background": "light"
     },
     "output_type": "display_data"
    }
   ],
   "source": [
    "mapp = pd.read_csv(\n",
    "    \"./datasets/new_mapping.txt\", delimiter=\" \", index_col=0, header=None, squeeze=True\n",
    ")\n",
    "f, ax = plt.subplots(1, num_classes, figsize=(20,20))\n",
    "\n",
    "for i in range(0, num_classes):\n",
    "  sample = x_train[y_train == i][0]\n",
    "  ax[i].imshow(sample, cmap=\"Greys\")\n",
    "  label=(\"Label: {}\".format(i) + ' (' + chr(mapp[i])+')')\n",
    "  ax[i].set_title(label, fontsize=16)\n"
   ]
  },
  {
   "cell_type": "markdown",
   "metadata": {},
   "source": [
    "Prepare Data"
   ]
  },
  {
   "cell_type": "code",
   "execution_count": 6,
   "metadata": {},
   "outputs": [],
   "source": [
    "# convert class vectors to binary class matrices\n",
    "y_train = keras.utils.to_categorical(y_train, num_classes)\n",
    "y_test = keras.utils.to_categorical(y_test, num_classes)"
   ]
  },
  {
   "cell_type": "code",
   "execution_count": 33,
   "metadata": {},
   "outputs": [
    {
     "name": "stdout",
     "output_type": "stream",
     "text": [
      "(16800, 784)\n",
      "(2800, 784)\n"
     ]
    }
   ],
   "source": [
    "x_train = x_train.reshape(x_train.shape[0], x_train.shape[1]* x_train.shape[2])\n",
    "x_test = x_test.reshape(x_test.shape[0], x_test.shape[1]* x_test.shape[2])\n",
    "print(x_train.shape)\n",
    "print(x_test.shape)"
   ]
  },
  {
   "cell_type": "code",
   "execution_count": 34,
   "metadata": {},
   "outputs": [
    {
     "name": "stdout",
     "output_type": "stream",
     "text": [
      "Model: \"sequential_3\"\n",
      "_________________________________________________________________\n",
      " Layer (type)                Output Shape              Param #   \n",
      "=================================================================\n",
      " dense_9 (Dense)             (None, 512)               401920    \n",
      "                                                                 \n",
      " dropout_5 (Dropout)         (None, 512)               0         \n",
      "                                                                 \n",
      " dense_10 (Dense)            (None, 256)               131328    \n",
      "                                                                 \n",
      " dropout_6 (Dropout)         (None, 256)               0         \n",
      "                                                                 \n",
      " dense_11 (Dense)            (None, 7)                 1799      \n",
      "                                                                 \n",
      "=================================================================\n",
      "Total params: 535,047\n",
      "Trainable params: 535,047\n",
      "Non-trainable params: 0\n",
      "_________________________________________________________________\n"
     ]
    }
   ],
   "source": [
    "model  = keras.Sequential()\n",
    "\n",
    "model.add(layers.Dense(512, activation='relu', input_shape=(784,)))\n",
    "model.add(layers.Dropout(0.2))\n",
    "model.add(layers.Dense(256, activation='relu'))\n",
    "model.add(layers.Dropout(0.3))\n",
    "model.add(layers.Dense(7, activation='softmax'))\n",
    "\n",
    "model.summary()"
   ]
  },
  {
   "cell_type": "code",
   "execution_count": 35,
   "metadata": {},
   "outputs": [
    {
     "name": "stdout",
     "output_type": "stream",
     "text": [
      "Epoch 1/16\n",
      "132/132 [==============================] - 2s 7ms/step - loss: 0.2970 - accuracy: 0.9049 - val_loss: 0.1463 - val_accuracy: 0.9575\n",
      "Epoch 2/16\n",
      "132/132 [==============================] - 1s 6ms/step - loss: 0.1123 - accuracy: 0.9668 - val_loss: 0.1147 - val_accuracy: 0.9657\n",
      "Epoch 3/16\n",
      "132/132 [==============================] - 1s 8ms/step - loss: 0.0704 - accuracy: 0.9779 - val_loss: 0.0878 - val_accuracy: 0.9750\n",
      "Epoch 4/16\n",
      "132/132 [==============================] - 1s 8ms/step - loss: 0.0518 - accuracy: 0.9829 - val_loss: 0.0910 - val_accuracy: 0.9757\n",
      "Epoch 5/16\n",
      "132/132 [==============================] - 1s 7ms/step - loss: 0.0367 - accuracy: 0.9884 - val_loss: 0.0901 - val_accuracy: 0.9768\n",
      "Epoch 6/16\n",
      "132/132 [==============================] - 1s 7ms/step - loss: 0.0331 - accuracy: 0.9889 - val_loss: 0.0782 - val_accuracy: 0.9782\n",
      "Epoch 7/16\n",
      "132/132 [==============================] - 1s 7ms/step - loss: 0.0226 - accuracy: 0.9926 - val_loss: 0.0840 - val_accuracy: 0.9800\n",
      "Epoch 8/16\n",
      "132/132 [==============================] - 1s 6ms/step - loss: 0.0178 - accuracy: 0.9936 - val_loss: 0.0802 - val_accuracy: 0.9771\n",
      "Epoch 9/16\n",
      "132/132 [==============================] - 1s 6ms/step - loss: 0.0148 - accuracy: 0.9955 - val_loss: 0.1057 - val_accuracy: 0.9757\n",
      "Epoch 10/16\n",
      "132/132 [==============================] - 1s 6ms/step - loss: 0.0164 - accuracy: 0.9947 - val_loss: 0.0892 - val_accuracy: 0.9800\n",
      "Epoch 11/16\n",
      "132/132 [==============================] - 1s 6ms/step - loss: 0.0158 - accuracy: 0.9948 - val_loss: 0.1057 - val_accuracy: 0.9746\n",
      "Epoch 12/16\n",
      "132/132 [==============================] - 1s 6ms/step - loss: 0.0125 - accuracy: 0.9965 - val_loss: 0.0970 - val_accuracy: 0.9796\n",
      "Epoch 13/16\n",
      "132/132 [==============================] - 1s 6ms/step - loss: 0.0106 - accuracy: 0.9965 - val_loss: 0.0951 - val_accuracy: 0.9789\n",
      "Epoch 14/16\n",
      "132/132 [==============================] - 1s 7ms/step - loss: 0.0106 - accuracy: 0.9968 - val_loss: 0.1102 - val_accuracy: 0.9743\n",
      "Epoch 15/16\n",
      "132/132 [==============================] - 1s 8ms/step - loss: 0.0082 - accuracy: 0.9972 - val_loss: 0.1027 - val_accuracy: 0.9782\n",
      "Epoch 16/16\n",
      "132/132 [==============================] - 1s 8ms/step - loss: 0.0110 - accuracy: 0.9964 - val_loss: 0.1098 - val_accuracy: 0.9779\n"
     ]
    }
   ],
   "source": [
    "batch_size = 128\n",
    "epochs = 16\n",
    "\n",
    "#model.compile(loss=\"categorical_crossentropy\", optimizer=\"adam\", metrics=[\"accuracy\"])\n",
    "model.compile(loss=\"sparse_categorical_crossentropy\", optimizer=\"adam\", metrics=[\"accuracy\"])\n",
    "#model.compile(loss=\"categorical_crossentropy\", optimizer=\"adam\", metrics=[keras.metrics.Recall()])\n",
    "#model.compile(loss=\"categorical_crossentropy\", optimizer=\"adam\", metrics=[\"accuracy\"])\n",
    "\n",
    "\n",
    "#history = model.fit(x_train, y_train, batch_size=batch_size, epochs=epochs, validation_split=0.1)\n",
    "#history = model.fit(x_train, train_y_library, batch_size=batch_size, epochs=epochs, validation_data=(x_test,test_y_library))\n",
    "history_library = model.fit(x_train, y_train, batch_size=batch_size, epochs=epochs, validation_data=(x_test,y_test))"
   ]
  },
  {
   "cell_type": "code",
   "execution_count": 25,
   "metadata": {},
   "outputs": [
    {
     "name": "stdout",
     "output_type": "stream",
     "text": [
      "Test loss: 0.10662686824798584\n",
      "Test accuracy: 0.979285717010498\n"
     ]
    }
   ],
   "source": [
    "score = model.evaluate(x_test, y_test, verbose=0)\n",
    "print(\"Test loss:\", score[0])\n",
    "print(\"Test accuracy:\", score[1])"
   ]
  },
  {
   "cell_type": "code",
   "execution_count": 26,
   "metadata": {},
   "outputs": [
    {
     "data": {
      "text/plain": [
       "{'loss': [0.2964276969432831,\n",
       "  0.11219769716262817,\n",
       "  0.07363991439342499,\n",
       "  0.05423275753855705,\n",
       "  0.03749863803386688,\n",
       "  0.03186390548944473,\n",
       "  0.023176567628979683,\n",
       "  0.020795069634914398,\n",
       "  0.016865180805325508,\n",
       "  0.015379024669528008,\n",
       "  0.016639670357108116,\n",
       "  0.014350892044603825,\n",
       "  0.011263742111623287,\n",
       "  0.01442097406834364,\n",
       "  0.011067421175539494,\n",
       "  0.01053073350340128],\n",
       " 'accuracy': [0.9079166650772095,\n",
       "  0.9674404859542847,\n",
       "  0.9770833253860474,\n",
       "  0.9834523797035217,\n",
       "  0.9882143139839172,\n",
       "  0.9894047379493713,\n",
       "  0.9917262196540833,\n",
       "  0.9937499761581421,\n",
       "  0.9944047331809998,\n",
       "  0.9947023987770081,\n",
       "  0.994523823261261,\n",
       "  0.995119035243988,\n",
       "  0.9957143068313599,\n",
       "  0.995119035243988,\n",
       "  0.9961904883384705,\n",
       "  0.996488094329834],\n",
       " 'val_loss': [0.14845599234104156,\n",
       "  0.11084652692079544,\n",
       "  0.09608448296785355,\n",
       "  0.08365047723054886,\n",
       "  0.08624991774559021,\n",
       "  0.0949329063296318,\n",
       "  0.08699601143598557,\n",
       "  0.0908527746796608,\n",
       "  0.09050475805997849,\n",
       "  0.09163105487823486,\n",
       "  0.08949129283428192,\n",
       "  0.09264858067035675,\n",
       "  0.09744790941476822,\n",
       "  0.11383756250143051,\n",
       "  0.12008199095726013,\n",
       "  0.10662686079740524],\n",
       " 'val_accuracy': [0.956428587436676,\n",
       "  0.9682142734527588,\n",
       "  0.9725000262260437,\n",
       "  0.9750000238418579,\n",
       "  0.9735714197158813,\n",
       "  0.9742857217788696,\n",
       "  0.9782142639160156,\n",
       "  0.9778571724891663,\n",
       "  0.9785714149475098,\n",
       "  0.9789285659790039,\n",
       "  0.9817857146263123,\n",
       "  0.979285717010498,\n",
       "  0.9789285659790039,\n",
       "  0.9767857193946838,\n",
       "  0.9760714173316956,\n",
       "  0.979285717010498]}"
      ]
     },
     "execution_count": 26,
     "metadata": {},
     "output_type": "execute_result"
    }
   ],
   "source": [
    "history_library.history"
   ]
  },
  {
   "cell_type": "code",
   "execution_count": 27,
   "metadata": {},
   "outputs": [
    {
     "data": {
      "image/png": "[encoded data removed]",
      "text/plain": [
       "<Figure size 432x288 with 1 Axes>"
      ]
     },
     "metadata": {
      "needs_background": "light"
     },
     "output_type": "display_data"
    },
    {
     "data": {
      "image/png": "[encoded data removed]",
      "text/plain": [
       "<Figure size 432x288 with 1 Axes>"
      ]
     },
     "metadata": {
      "needs_background": "light"
     },
     "output_type": "display_data"
    }
   ],
   "source": [
    "# Plot training & validation accuracy values\n",
    "plt.plot(history_library.history['accuracy'])\n",
    "plt.plot(history_library.history['val_accuracy'])\n",
    "plt.title('Model accuracy')\n",
    "plt.ylabel('Accuracy')\n",
    "plt.xlabel('Epoch')\n",
    "plt.legend(['Train', 'Val'], loc='upper left')\n",
    "plt.show()\n",
    "\n",
    "# Plot training & validation loss values\n",
    "plt.plot(history_library.history['loss'])\n",
    "plt.plot(history_library.history['val_loss'])\n",
    "plt.title('Model loss')\n",
    "plt.ylabel('Loss')\n",
    "plt.xlabel('Epoch')\n",
    "plt.legend(['Train', 'Val'], loc='upper left')\n",
    "plt.show()"
   ]
  },
  {
   "cell_type": "markdown",
   "metadata": {},
   "source": [
    "Fully Connected Neural Network"
   ]
  },
  {
   "cell_type": "code",
   "execution_count": 10,
   "metadata": {},
   "outputs": [
    {
     "name": "stdout",
     "output_type": "stream",
     "text": [
      "Model: \"sequential_1\"\n",
      "_________________________________________________________________\n",
      " Layer (type)                Output Shape              Param #   \n",
      "=================================================================\n",
      " dense_3 (Dense)             (None, 128)               100480    \n",
      "                                                                 \n",
      " dense_4 (Dense)             (None, 128)               16512     \n",
      "                                                                 \n",
      " dropout_2 (Dropout)         (None, 128)               0         \n",
      "                                                                 \n",
      " dense_5 (Dense)             (None, 7)                 903       \n",
      "                                                                 \n",
      "=================================================================\n",
      "Total params: 117,895\n",
      "Trainable params: 117,895\n",
      "Non-trainable params: 0\n",
      "_________________________________________________________________\n"
     ]
    }
   ],
   "source": [
    "model = Sequential()\n",
    "\n",
    "model.add(Dense(units=128, input_shape=(784,), activation='relu'))\n",
    "model.add(Dense(units=128, activation='relu'))\n",
    "model.add(Dropout(0.25))\n",
    "model.add(Dense(units=7, activation='softmax'))\n",
    "\n",
    "model.compile(loss='categorical_crossentropy', optimizer='adam', metrics = ['accuracy'])\n",
    "model.summary()"
   ]
  },
  {
   "cell_type": "markdown",
   "metadata": {},
   "source": [
    "Train"
   ]
  },
  {
   "cell_type": "code",
   "execution_count": 11,
   "metadata": {},
   "outputs": [
    {
     "name": "stdout",
     "output_type": "stream",
     "text": [
      "Epoch 1/10\n",
      "33/33 [==============================] - 1s 8ms/step - loss: 0.7853 - accuracy: 0.7757\n",
      "Epoch 2/10\n",
      "33/33 [==============================] - 0s 7ms/step - loss: 0.2451 - accuracy: 0.9247\n",
      "Epoch 3/10\n",
      "33/33 [==============================] - 0s 7ms/step - loss: 0.1788 - accuracy: 0.9465\n",
      "Epoch 4/10\n",
      "33/33 [==============================] - 0s 6ms/step - loss: 0.1404 - accuracy: 0.9589\n",
      "Epoch 5/10\n",
      "33/33 [==============================] - 0s 5ms/step - loss: 0.1173 - accuracy: 0.9672\n",
      "Epoch 6/10\n",
      "33/33 [==============================] - 0s 5ms/step - loss: 0.0965 - accuracy: 0.9716\n",
      "Epoch 7/10\n",
      "33/33 [==============================] - 0s 5ms/step - loss: 0.0835 - accuracy: 0.9744\n",
      "Epoch 8/10\n",
      "33/33 [==============================] - 0s 5ms/step - loss: 0.0730 - accuracy: 0.9796\n",
      "Epoch 9/10\n",
      "33/33 [==============================] - 0s 6ms/step - loss: 0.0645 - accuracy: 0.9810\n",
      "Epoch 10/10\n",
      "33/33 [==============================] - 0s 5ms/step - loss: 0.0562 - accuracy: 0.9831\n"
     ]
    },
    {
     "data": {
      "text/plain": [
       "<keras.callbacks.History at 0x13791f820>"
      ]
     },
     "execution_count": 11,
     "metadata": {},
     "output_type": "execute_result"
    }
   ],
   "source": [
    "batch_size=512\n",
    "epochs=10\n",
    "model.fit(x=x_train, y=y_train, batch_size=batch_size, epochs=epochs)"
   ]
  },
  {
   "cell_type": "markdown",
   "metadata": {},
   "source": [
    "Evaluate"
   ]
  },
  {
   "cell_type": "code",
   "execution_count": 12,
   "metadata": {},
   "outputs": [
    {
     "name": "stdout",
     "output_type": "stream",
     "text": [
      "88/88 [==============================] - 1s 3ms/step - loss: 0.0997 - accuracy: 0.9700\n",
      "Test Loss: 0.09967295080423355, Test Accuracy: 0.9700000286102295\n"
     ]
    }
   ],
   "source": [
    "test_loss, test_acc = model.evaluate(x_test, y_test)\n",
    "print(\"Test Loss: {}, Test Accuracy: {}\".format(test_loss, test_acc))"
   ]
  },
  {
   "cell_type": "code",
   "execution_count": 13,
   "metadata": {},
   "outputs": [
    {
     "name": "stdout",
     "output_type": "stream",
     "text": [
      "[[4.3829331e-08 6.2904651e-06 5.8812644e-09 ... 7.7938509e-08\n",
      "  1.0416378e-08 9.9999249e-01]\n",
      " [5.2844007e-05 1.8002498e-05 9.9912411e-01 ... 7.1363192e-04\n",
      "  4.6486362e-05 2.8387129e-05]\n",
      " [3.2834591e-06 9.9997187e-01 1.1338921e-05 ... 1.9489096e-06\n",
      "  3.8551238e-07 1.1133390e-05]\n",
      " ...\n",
      " [1.2590531e-03 3.5759330e-02 8.8846294e-04 ... 1.2920829e-04\n",
      "  9.5923173e-01 2.3246794e-03]\n",
      " [9.9696976e-01 8.9875219e-05 2.8036977e-05 ... 7.5156418e-06\n",
      "  5.5586966e-04 2.0988018e-03]\n",
      " [3.3929481e-04 4.7899375e-04 1.3127521e-05 ... 2.1278756e-04\n",
      "  7.1064843e-04 9.9793184e-01]]\n",
      "[6 2 1 ... 5 0 6]\n"
     ]
    }
   ],
   "source": [
    "\n",
    "y_pred = model.predict(x_test)\n",
    "y_pred_classes = np.argmax(y_pred, axis=1)\n",
    "print(y_pred)\n",
    "print(y_pred_classes)"
   ]
  },
  {
   "cell_type": "code",
   "execution_count": 14,
   "metadata": {},
   "outputs": [
    {
     "data": {
      "text/plain": [
       "<matplotlib.image.AxesImage at 0x137a94100>"
      ]
     },
     "execution_count": 14,
     "metadata": {},
     "output_type": "execute_result"
    },
    {
     "data": {
      "image/png": "[encoded data removed]",
      "text/plain": [
       "<Figure size 432x288 with 1 Axes>"
      ]
     },
     "metadata": {
      "needs_background": "light"
     },
     "output_type": "display_data"
    }
   ],
   "source": [
    "# Single Example\n",
    "random_idx = np.random.choice(len(x_test))\n",
    "x_sample = x_test[random_idx]\n",
    "y_true = np.argmax(y_test, axis=1)\n",
    "y_sample_true = y_true[random_idx]\n",
    "y_sample_pred_class = y_pred_classes[random_idx]\n",
    "\n",
    "plt.title(\"Predicted: {}, True: {}\".format(y_sample_pred_class, y_sample_true), fontsize=16)\n",
    "plt.imshow(x_sample.reshape(28, 28), cmap='Greys')"
   ]
  },
  {
   "cell_type": "markdown",
   "metadata": {},
   "source": [
    "Confusion Matrix"
   ]
  },
  {
   "cell_type": "code",
   "execution_count": 15,
   "metadata": {},
   "outputs": [
    {
     "data": {
      "image/png": "[encoded data removed]",
      "text/plain": [
       "<Figure size 1080x720 with 2 Axes>"
      ]
     },
     "metadata": {
      "needs_background": "light"
     },
     "output_type": "display_data"
    }
   ],
   "source": [
    "confusion_mtx = confusion_matrix(y_true, y_pred_classes)\n",
    "\n",
    "# Plot\n",
    "fig, ax = plt.subplots(figsize=(15,10))\n",
    "ax = sns.heatmap(confusion_mtx, annot=True, fmt='d', ax=ax, cmap=\"Blues\")\n",
    "ax.set_xlabel('Predicted Label')\n",
    "ax.set_ylabel('True Label')\n",
    "ax.set_title('Confusion Matrix');"
   ]
  },
  {
   "cell_type": "markdown",
   "metadata": {},
   "source": [
    "Errors"
   ]
  },
  {
   "cell_type": "code",
   "execution_count": 16,
   "metadata": {},
   "outputs": [
    {
     "data": {
      "image/png": "[encoded data removed]",
      "text/plain": [
       "<Figure size 2160x2160 with 5 Axes>"
      ]
     },
     "metadata": {
      "needs_background": "light"
     },
     "output_type": "display_data"
    }
   ],
   "source": [
    "errors = (y_pred_classes - y_true != 0)\n",
    "y_pred_classes_errors = y_pred_classes[errors]\n",
    "y_pred_errors = y_pred[errors]\n",
    "y_true_errors = y_true[errors]\n",
    "x_test_errors = x_test[errors]\n",
    "\n",
    "y_pred_errors_probability = np.max(y_pred_errors, axis=1)\n",
    "true_probability_errors = np.diagonal(np.take(y_pred_errors, y_true_errors, axis=1))\n",
    "diff_errors_pred_true = y_pred_errors_probability - true_probability_errors\n",
    "\n",
    "# Get list of indices of sorted differences\n",
    "sorted_idx_diff_errors = np.argsort(diff_errors_pred_true)\n",
    "top_idx_diff_errors = sorted_idx_diff_errors[-5:] # 5 last ones\n",
    "\n",
    "# Show Top Errors\n",
    "num = len(top_idx_diff_errors)\n",
    "f, ax = plt.subplots(1, num, figsize=(30,30))\n",
    "\n",
    "for i in range(0, num):\n",
    "  idx = top_idx_diff_errors[i]\n",
    "  sample = x_test_errors[idx].reshape(28,28)\n",
    "  y_t = y_true_errors[idx]\n",
    "  y_p = y_pred_classes_errors[idx]\n",
    "  ax[i].imshow(sample, cmap='Greys')\n",
    "  label=(\"Predicted label :\"+ chr(mapp[y_p]) + '\\nTrue label: ' + chr(mapp[y_t]))\n",
    "  ax[i].set_title(label, fontsize=22)\n",
    "\n"
   ]
  },
  {
   "cell_type": "markdown",
   "metadata": {},
   "source": [
    "Save Model"
   ]
  },
  {
   "cell_type": "code",
   "execution_count": 36,
   "metadata": {},
   "outputs": [],
   "source": [
    "model.save('./models/model.h5')"
   ]
  }
 ],
 "metadata": {
  "kernelspec": {
   "display_name": "Python 3.9.13 64-bit",
   "language": "python",
   "name": "python3"
  },
  "language_info": {
   "codemirror_mode": {
    "name": "ipython",
    "version": 3
   },
   "file_extension": ".py",
   "mimetype": "text/x-python",
   "name": "python",
   "nbconvert_exporter": "python",
   "pygments_lexer": "ipython3",
   "version": "3.9.15"
  },
  "orig_nbformat": 4,
  "vscode": {
   "interpreter": {
    "hash": "397704579725e15f5c7cb49fe5f0341eb7531c82d19f2c29d197e8b64ab5776b"
   }
  }
 },
 "nbformat": 4,
 "nbformat_minor": 2
}
