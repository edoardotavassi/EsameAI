{
 "cells": [
  {
   "cell_type": "code",
   "execution_count": 1,
   "metadata": {},
   "outputs": [],
   "source": [
    "initial = [\n",
    "    \"X\",\n",
    "    \"T\",\n",
    "    \"2\",\n",
    "    \"4\",\n",
    "    \"X\",\n",
    "    \"X\",\n",
    "    \"1\",\n",
    "    \"X\",\n",
    "    \"T\",\n",
    "    \"4\",\n",
    "    \"X\",\n",
    "    \"4\",\n",
    "    \"4\",\n",
    "    \"3\",\n",
    "    \"S\",\n",
    "    \"1\",\n",
    "]"
   ]
  },
  {
   "cell_type": "code",
   "execution_count": 3,
   "metadata": {},
   "outputs": [
    {
     "name": "stdout",
     "output_type": "stream",
     "text": [
      "[('X', False), ('T', False), ('2', False), ('4', False), ('X', False), ('X', False), ('1', False), ('X', False), ('T', False), ('4', False), ('X', False), ('4', False), ('4', False), ('3', False), ('S', True), ('1', False)]\n"
     ]
    }
   ],
   "source": [
    "new_initial = list()\n",
    "for i in initial:\n",
    "    if i == \"S\":\n",
    "        new_initial.append((\"S\", True))\n",
    "    else:\n",
    "        new_initial.append((i, False))\n",
    "    \n",
    "print(new_initial)"
   ]
  },
  {
   "cell_type": "code",
   "execution_count": 8,
   "metadata": {},
   "outputs": [
    {
     "name": "stdout",
     "output_type": "stream",
     "text": [
      "{'1': False, '8': False}\n"
     ]
    }
   ],
   "source": [
    "# Count the number of treasures\n",
    "count = 0\n",
    "goal = dict()\n",
    "for i in initial:\n",
    "    if i == \"T\":\n",
    "        goal[str(count)]=False\n",
    "    count += 1\n",
    "    \n",
    "print(goal)"
   ]
  },
  {
   "cell_type": "code",
   "execution_count": 9,
   "metadata": {},
   "outputs": [],
   "source": [
    "state=[('S', False), ('O', False), ('2', False), ('4', False), ('1', False), ('X', False), ('1', False), ('X', False), ('O', True), ('4', False), ('X', False), ('4', False), ('4', False), ('3', False), ('X', False), ('1', False)]\n",
    "\n",
    "path_cost=6\n",
    "\n"
   ]
  },
  {
   "cell_type": "code",
   "execution_count": 20,
   "metadata": {},
   "outputs": [
    {
     "name": "stdout",
     "output_type": "stream",
     "text": [
      "[['S', 'O', '2', '4'], ['1', 'X', '1', 'X'], ['O', '4', 'X', '4'], ['4', '3', 'X', '1']]\n"
     ]
    }
   ],
   "source": [
    "map=[]\n",
    "count=1\n",
    "row=[]\n",
    "for (i, k) in state:\n",
    "    row.append(i)\n",
    "    if count % 4 == 0:\n",
    "        map.append(row)\n",
    "        row=[]\n",
    "    count+=1\n",
    "print(map)"
   ]
  },
  {
   "cell_type": "code",
   "execution_count": 37,
   "metadata": {},
   "outputs": [],
   "source": [
    "import matplotlib.pyplot as plt"
   ]
  },
  {
   "cell_type": "code",
   "execution_count": 66,
   "metadata": {},
   "outputs": [
    {
     "data": {
      "image/png": "[encoded data removed]",
      "text/plain": [
       "<Figure size 640x480 with 1 Axes>"
      ]
     },
     "metadata": {},
     "output_type": "display_data"
    }
   ],
   "source": [
    "fig, ax = plt.subplots()\n",
    "#plt.axes().set_aspect('equal') #set the x and y axes to the same scale\n",
    "#plt.axes().invert_yaxis() #invert the y-axis so the first row of data is at the top\n",
    "#ax.axhline(10, color='gray', linewidth=2)\n",
    "value=400\n",
    "plt.ylim(0,value)\n",
    "plt.xlim(0,value)\n",
    "for x in range(0,value,100):\n",
    "    ax.axhline(x, linestyle='-', color='k') # horizontal lines\n",
    "    ax.axvline(x, linestyle='-', color='k')\n",
    "\n",
    "for \n",
    "#plt.xticks([]) # remove the tick marks by setting to an empty list\n",
    "#plt.yticks([]) # remove the tick marks by setting to an empty list\n",
    "plt.show()"
   ]
  }
 ],
 "metadata": {
  "kernelspec": {
   "display_name": "Python 3.10.6 ('EsameAI-tvNwAl_u')",
   "language": "python",
   "name": "python3"
  },
  "language_info": {
   "codemirror_mode": {
    "name": "ipython",
    "version": 3
   },
   "file_extension": ".py",
   "mimetype": "text/x-python",
   "name": "python",
   "nbconvert_exporter": "python",
   "pygments_lexer": "ipython3",
   "version": "3.10.6"
  },
  "orig_nbformat": 4,
  "vscode": {
   "interpreter": {
    "hash": "dc4ab75a129ebdbca3ee296c998917fe00fc7e493fde029c62163ede7b2663a1"
   }
  }
 },
 "nbformat": 4,
 "nbformat_minor": 2
}
